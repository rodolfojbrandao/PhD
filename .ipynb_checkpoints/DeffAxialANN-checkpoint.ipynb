{
 "cells": [
  {
   "cell_type": "code",
   "execution_count": 3,
   "metadata": {
    "colab": {},
    "colab_type": "code",
    "id": "LHkBgkIgysmK"
   },
   "outputs": [
    {
     "ename": "ImportError",
     "evalue": "cannot import name cbook",
     "output_type": "error",
     "traceback": [
      "\u001b[0;31m---------------------------------------------------------------------------\u001b[0m",
      "\u001b[0;31mImportError\u001b[0m                               Traceback (most recent call last)",
      "\u001b[0;32m<ipython-input-3-4807c33d7174>\u001b[0m in \u001b[0;36m<module>\u001b[0;34m()\u001b[0m\n\u001b[1;32m      2\u001b[0m \u001b[0;32mimport\u001b[0m \u001b[0mnumpy\u001b[0m \u001b[0;32mas\u001b[0m \u001b[0mnp\u001b[0m\u001b[0;34m\u001b[0m\u001b[0m\n\u001b[1;32m      3\u001b[0m \u001b[0;32mimport\u001b[0m \u001b[0mpandas\u001b[0m \u001b[0;32mas\u001b[0m \u001b[0mpd\u001b[0m\u001b[0;34m\u001b[0m\u001b[0m\n\u001b[0;32m----> 4\u001b[0;31m \u001b[0;32mimport\u001b[0m \u001b[0mmatplotlib\u001b[0m\u001b[0;34m.\u001b[0m\u001b[0mpyplot\u001b[0m \u001b[0;32mas\u001b[0m \u001b[0mplt\u001b[0m\u001b[0;34m\u001b[0m\u001b[0m\n\u001b[0m\u001b[1;32m      5\u001b[0m \u001b[0;32mfrom\u001b[0m \u001b[0msklearn\u001b[0m\u001b[0;34m.\u001b[0m\u001b[0mneural_network\u001b[0m \u001b[0;32mimport\u001b[0m \u001b[0mMLPRegressor\u001b[0m\u001b[0;34m\u001b[0m\u001b[0m\n\u001b[1;32m      6\u001b[0m \u001b[0;32mfrom\u001b[0m \u001b[0msklearn\u001b[0m\u001b[0;34m.\u001b[0m\u001b[0mmetrics\u001b[0m \u001b[0;32mimport\u001b[0m \u001b[0mmean_squared_error\u001b[0m\u001b[0;34m\u001b[0m\u001b[0m\n",
      "\u001b[0;32m/usr/local/lib/python2.7/dist-packages/matplotlib/__init__.py\u001b[0m in \u001b[0;36m<module>\u001b[0;34m()\u001b[0m\n\u001b[1;32m    124\u001b[0m \u001b[0;31m# cbook must import matplotlib only within function\u001b[0m\u001b[0;34m\u001b[0m\u001b[0;34m\u001b[0m\u001b[0m\n\u001b[1;32m    125\u001b[0m \u001b[0;31m# definitions, so it is safe to import from it here.\u001b[0m\u001b[0;34m\u001b[0m\u001b[0;34m\u001b[0m\u001b[0m\n\u001b[0;32m--> 126\u001b[0;31m \u001b[0;32mfrom\u001b[0m \u001b[0;34m.\u001b[0m \u001b[0;32mimport\u001b[0m \u001b[0mcbook\u001b[0m\u001b[0;34m\u001b[0m\u001b[0m\n\u001b[0m\u001b[1;32m    127\u001b[0m from matplotlib.cbook import (\n\u001b[1;32m    128\u001b[0m     _backports, mplDeprecation, dedent, get_label, sanitize_sequence)\n",
      "\u001b[0;31mImportError\u001b[0m: cannot import name cbook"
     ]
    }
   ],
   "source": [
    "import os\n",
    "import numpy as np\n",
    "import pandas as pd\n",
    "import matplotlib.pyplot as plt\n",
    "from sklearn.neural_network import MLPRegressor\n",
    "from sklearn.metrics import mean_squared_error\n",
    "from sklearn.metrics import r2_score\n",
    "import random\n",
    "%matplotlib inline"
   ]
  },
  {
   "cell_type": "code",
   "execution_count": null,
   "metadata": {
    "colab": {
     "base_uri": "https://localhost:8080/",
     "height": 187
    },
    "colab_type": "code",
    "executionInfo": {
     "elapsed": 16420,
     "status": "ok",
     "timestamp": 1544614359750,
     "user": {
      "displayName": "Rodolfo Brandao",
      "photoUrl": "",
      "userId": "15780035192263158179"
     },
     "user_tz": 120
    },
    "id": "VEs7Nw5zythr",
    "outputId": "ee7f76e4-8cf7-48b0-83f6-4873242ce43f"
   },
   "outputs": [],
   "source": [
    "!git clone http://github.com/rodolfojbrandao/PHD\n",
    "%cd PHD"
   ]
  },
  {
   "cell_type": "code",
   "execution_count": null,
   "metadata": {
    "colab": {},
    "colab_type": "code",
    "id": "U4hVZAs8yuDK"
   },
   "outputs": [],
   "source": [
    "# funcao normatiza dados\n",
    "def Normatiza(x):\n",
    "    strings=list(x)\n",
    "    for i in strings:\n",
    "        max_x=x[i].max()\n",
    "        min_x=x[i].min()\n",
    "        a=(max_x+min_x)/2\n",
    "        b=(max_x-min_x)/2\n",
    "        x[i]=(x[i]-a)/b\n",
    "    return x"
   ]
  },
  {
   "cell_type": "code",
   "execution_count": null,
   "metadata": {
    "colab": {},
    "colab_type": "code",
    "id": "qFL5WNE3yuA5"
   },
   "outputs": [],
   "source": [
    "def Original(x,x_old):\n",
    "    strings=list(x)\n",
    "    for i in strings:\n",
    "        max_x=x_old[i].max()\n",
    "        min_x=x_old[i].min()\n",
    "        a=(max_x+min_x)/2\n",
    "        b=(max_x-min_x)/2\n",
    "        x[i]=x[i]*b+a\n",
    "    return x"
   ]
  },
  {
   "cell_type": "code",
   "execution_count": null,
   "metadata": {
    "colab": {},
    "colab_type": "code",
    "id": "WFn2iB5-yt9t"
   },
   "outputs": [],
   "source": [
    "def rede(i,j):\n",
    "    clf = MLPRegressor(solver='lbfgs',activation='relu',alpha=1e-5, hidden_layer_sizes=(i),random_state=j)\n",
    "    return clf"
   ]
  },
  {
   "cell_type": "code",
   "execution_count": null,
   "metadata": {
    "colab": {},
    "colab_type": "code",
    "id": "RLXQu5cByt5M"
   },
   "outputs": [],
   "source": [
    "Melhor=1e99\n",
    "N=20 #i numero de neuronios\n",
    "M=10 #j\n",
    "O=15 #k"
   ]
  },
  {
   "cell_type": "code",
   "execution_count": null,
   "metadata": {
    "colab": {
     "base_uri": "https://localhost:8080/",
     "height": 99079
    },
    "colab_type": "code",
    "executionInfo": {
     "elapsed": 104046,
     "status": "ok",
     "timestamp": 1544614447393,
     "user": {
      "displayName": "Rodolfo Brandao",
      "photoUrl": "",
      "userId": "15780035192263158179"
     },
     "user_tz": 120
    },
    "id": "0ZEj6wwpyte7",
    "outputId": "711c478a-7778-4773-ca5f-19cf057816bb"
   },
   "outputs": [],
   "source": [
    "for k in range(0,O):\n",
    "  # leitura dos dados\n",
    "  DAT=pd.read_csv(\"difusividade.csv\")\n",
    "\n",
    "  # separa as colunas de interesse\n",
    "  Index=[0,1,2,3,4,5,6,7,8]\n",
    "  Dat_Select=[]\n",
    "  Dat_Select=DAT.iloc[:,Index].copy()\n",
    "\n",
    "  # separa os dados em normatizados e originais\n",
    "  DAT_OLD=[]\n",
    "  DAT_OLD=Dat_Select.copy()\n",
    "  DAT=Normatiza(Dat_Select)\n",
    "  \n",
    "  # separa os dados em treino e teste\n",
    "  train=[]\n",
    "  test=[]\n",
    "  train=DAT.sample(frac=0.8,random_state=k).copy()\n",
    "  test=DAT.drop(train.index).copy()\n",
    "  \n",
    "  # obtem as variaveis independentes (treino e teste)\n",
    "  x_train=train.iloc[:,[0,1,2,3,4,5,6]]\n",
    "  x_test=test.iloc[:,[0,1,2,3,4,5,6]]\n",
    "  X_OLD=DAT_OLD.iloc[:,[0,1,2,3,4,5,6]]\n",
    "\n",
    "  # obtem as variaveis dependentes (treino e teste)\n",
    "  Index=[8]\n",
    "  y_train=train.iloc[:,Index]\n",
    "  y_test=test.iloc[:,Index]\n",
    "  Y_OLD=DAT_OLD.iloc[:,Index]\n",
    "  test=Original(y_test,Y_OLD)\n",
    "  resist_obs_test=[]\n",
    "  resist_obs_train=[]\n",
    "  resist_obs_test=test['Difusividade_axial'].copy()\n",
    "  for i in range(1,N):\n",
    "      for j in range(0,M):\n",
    "          col_names=list(y_train)\n",
    "          clf=rede(i,j)\n",
    "          clf.fit(x_train, y_train)\n",
    "          y_calc_train=[]\n",
    "          y_calc_test=[]\n",
    "          y_calc_train=clf.predict(x_train)\n",
    "          y_calc_test=clf.predict(x_test)\n",
    "          y_calc_train=pd.DataFrame(y_calc_train)\n",
    "          y_calc_test=pd.DataFrame(y_calc_test)\n",
    "          y_calc_train.columns = col_names\n",
    "          y_calc_test.columns = col_names\n",
    "          y_calc_train=Original(y_calc_train,Y_OLD)\n",
    "          y_calc_test=Original(y_calc_test,Y_OLD)\n",
    "          resist_calc_train=[]\n",
    "          resist_calc_test=[]\n",
    "          resist_calc_train=y_calc_train['Difusividade_axial'].copy()\n",
    "          resist_calc_test=y_calc_test['Difusividade_axial'].copy()\n",
    "          mse=mean_squared_error(resist_obs_test,resist_calc_test)\n",
    "          R2_teste=r2_score(resist_obs_test,resist_calc_test)\n",
    "          #print(\"Neuronios=\",i,\"Seed=\",j,\"MSE teste=\",mse,\"R^2 teste=\",R2_teste)\n",
    "          if(mse<Melhor):\n",
    "              Melhor=mse.copy()\n",
    "              ix=i\n",
    "              jx=j\n",
    "              R2r=R2_teste\n",
    "              seed_sample = k\n",
    "              resist_obs_train_top=Original(y_train,Y_OLD)\n",
    "              resist_calc_train_top = resist_calc_train.copy()\n",
    "              resist_obs_test_top = resist_obs_test.copy()\n",
    "              resist_calc_test_top = resist_calc_test.copy()\n",
    "\n",
    "mse=mean_squared_error(resist_obs_train_top,resist_calc_train_top)\n",
    "R2=r2_score(resist_obs_train_top,resist_calc_train_top)"
   ]
  },
  {
   "cell_type": "code",
   "execution_count": null,
   "metadata": {
    "colab": {
     "base_uri": "https://localhost:8080/",
     "height": 68
    },
    "colab_type": "code",
    "executionInfo": {
     "elapsed": 104036,
     "status": "ok",
     "timestamp": 1544614447395,
     "user": {
      "displayName": "Rodolfo Brandao",
      "photoUrl": "",
      "userId": "15780035192263158179"
     },
     "user_tz": 120
    },
    "id": "cF3gAz7bytcO",
    "outputId": "c005f6ce-3b9a-48dc-e136-ecb9d9637c04"
   },
   "outputs": [],
   "source": [
    "print(\"\\n Melhor resposta:\")\n",
    "print(\"Neuronios=\",ix,\"Seed=\",jx,\"Seed_sample\",seed_sample,\"MSE teste=\",Melhor,\"R^2 teste=\",R2r,\"MSE treino=\",mse,\"R^2 treino=\",R2)"
   ]
  },
  {
   "cell_type": "code",
   "execution_count": null,
   "metadata": {
    "colab": {},
    "colab_type": "code",
    "id": "2e7mx1ye6UkX"
   },
   "outputs": [],
   "source": [
    "resist_obs_train_top=pd.DataFrame(resist_obs_train_top)\n",
    "resist_calc_train_top=pd.DataFrame(resist_calc_train_top)\n",
    "resist_obs_test_top=pd.DataFrame(resist_obs_test_top)\n",
    "resist_calc_test_top=pd.DataFrame(resist_calc_test_top)"
   ]
  },
  {
   "cell_type": "code",
   "execution_count": null,
   "metadata": {
    "colab": {
     "base_uri": "https://localhost:8080/",
     "height": 442
    },
    "colab_type": "code",
    "executionInfo": {
     "elapsed": 104024,
     "status": "ok",
     "timestamp": 1544614447400,
     "user": {
      "displayName": "Rodolfo Brandao",
      "photoUrl": "",
      "userId": "15780035192263158179"
     },
     "user_tz": 120
    },
    "id": "PPHpAqLJytYv",
    "outputId": "dab228f6-4c04-471f-88ba-04a6725c267f"
   },
   "outputs": [],
   "source": [
    "print(resist_obs_train_top.head())\n",
    "print(resist_calc_train_top.head())\n",
    "print('====================================')\n",
    "print(resist_obs_test_top.head())\n",
    "print(resist_calc_test_top.head())"
   ]
  },
  {
   "cell_type": "code",
   "execution_count": null,
   "metadata": {
    "colab": {
     "base_uri": "https://localhost:8080/",
     "height": 279
    },
    "colab_type": "code",
    "executionInfo": {
     "elapsed": 104400,
     "status": "ok",
     "timestamp": 1544614447784,
     "user": {
      "displayName": "Rodolfo Brandao",
      "photoUrl": "",
      "userId": "15780035192263158179"
     },
     "user_tz": 120
    },
    "id": "XEFBdzMSFzl-",
    "outputId": "ca6be8d0-7eff-42bf-c1d0-ff5be2211a55"
   },
   "outputs": [],
   "source": [
    "plt.plot(resist_obs_train_top, resist_calc_train_top,  color='green', linestyle='dashed', linewidth = 0, marker='o', markerfacecolor='blue', markersize=5, label='treino') \n",
    "plt.ylabel('Superior Calc')\n",
    "plt.xlabel('Superior Obs')\n",
    "#plt.xticks(np.arange(0, 0.0004, 0.00005))\n",
    "#plt.yticks(np.arange(0, 0.0004, 0.00005))\n",
    "plt.plot(resist_obs_test_top, resist_calc_test_top,  color='green', linestyle='dashed', linewidth = 0, marker='o', markerfacecolor='red', markersize=5, label='teste') \n",
    "plt.legend(loc='upper left')\n",
    "plt.ylabel('Valor Predito')\n",
    "plt.xlabel('Valor Observado')\n",
    "plt.legend()\n",
    "#plt.xticks(np.arange(0, 0.0004, 0.00005))\n",
    "#plt.yticks(np.arange(0, 0.0004, 0.00005))\n",
    "plt.show()"
   ]
  }
 ],
 "metadata": {
  "colab": {
   "name": "DifusividadeAxial.ipynb",
   "provenance": [
    {
     "file_id": "1QMA4TSF8U66u84SaCy0g64xuM7RuARKA",
     "timestamp": 1544572407002
    },
    {
     "file_id": "1cYymU1FZWh4Bx_ORSL9nkkkvNkQM-iSp",
     "timestamp": 1544569932998
    }
   ],
   "version": "0.3.2"
  },
  "kernelspec": {
   "display_name": "Python 2",
   "language": "python",
   "name": "python2"
  },
  "language_info": {
   "codemirror_mode": {
    "name": "ipython",
    "version": 2
   },
   "file_extension": ".py",
   "mimetype": "text/x-python",
   "name": "python",
   "nbconvert_exporter": "python",
   "pygments_lexer": "ipython2",
   "version": "2.7.16"
  }
 },
 "nbformat": 4,
 "nbformat_minor": 1
}
